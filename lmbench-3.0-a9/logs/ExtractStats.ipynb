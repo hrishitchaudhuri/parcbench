{
 "cells": [
  {
   "cell_type": "code",
   "execution_count": null,
   "id": "12bdf0d5",
   "metadata": {},
   "outputs": [],
   "source": [
    "import csv\n",
    "import os\n",
    "from datetime import datetime"
   ]
  },
  {
   "cell_type": "code",
   "execution_count": null,
   "id": "df3dba50",
   "metadata": {},
   "outputs": [],
   "source": [
    "header=[\"Filename\",\"No.of Parallel Processes\",\"Data\",\"Time Taken\",\"Bandwidth\",\"Time Elapsed\"]\n",
    "with open('stats.csv', 'w') as p:\n",
    "            writer = csv.writer(p)\n",
    "            writer.writerow(header) "
   ]
  },
  {
   "cell_type": "code",
   "execution_count": null,
   "id": "21e91e52",
   "metadata": {},
   "outputs": [],
   "source": [
    "count = 0\n",
    "for file in [x for x in os.listdir() if '.txt' in x]:\n",
    "    f = open(file, 'r')\n",
    "    logs = f.readlines()\n",
    "    #print(logs)    \n",
    "    info = []\n",
    "    info.append(file)\n",
    "    try:\n",
    "        info.append(int(logs[1].strip(\"\\n\").strip(\"\\tP with arg\")))\n",
    "        lmbench = logs[3]\n",
    "        time = logs[4]\n",
    "        info.append(float(lmbench[:lmbench.find(\"MB\")]))\n",
    "        info.append(float(lmbench[lmbench.find(\"in\")+3:lmbench.find(\"secs\")]))\n",
    "        info.append(float(lmbench[lmbench.find(\",\")+1:lmbench.find(\"MB/sec\")]))\n",
    "        et = time[time.find(\"system\")+7:time.find(\"elapsed\")]\n",
    "        info.append(float(et[0])*60 + float(et[2:]))\n",
    "        with open('stats.csv', 'a') as p:\n",
    "                writer = csv.writer(p)\n",
    "                writer.writerow(info) \n",
    "                count+=1\n",
    "    except:\n",
    "        print(\"Error parsing file\")\n",
    "    #print(info)\n",
    "print(count)"
   ]
  },
  {
   "cell_type": "code",
   "execution_count": null,
   "id": "15cca094",
   "metadata": {},
   "outputs": [],
   "source": []
  }
 ],
 "metadata": {
  "kernelspec": {
   "display_name": "Python 3 (ipykernel)",
   "language": "python",
   "name": "python3"
  },
  "language_info": {
   "codemirror_mode": {
    "name": "ipython",
    "version": 3
   },
   "file_extension": ".py",
   "mimetype": "text/x-python",
   "name": "python",
   "nbconvert_exporter": "python",
   "pygments_lexer": "ipython3",
   "version": "3.8.10"
  }
 },
 "nbformat": 4,
 "nbformat_minor": 5
}
