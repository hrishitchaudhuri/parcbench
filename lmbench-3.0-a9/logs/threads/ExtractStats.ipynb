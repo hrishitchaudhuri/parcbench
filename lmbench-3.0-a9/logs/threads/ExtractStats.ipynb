{
 "cells": [
  {
   "cell_type": "code",
   "execution_count": 21,
   "id": "12bdf0d5",
   "metadata": {},
   "outputs": [],
   "source": [
    "import csv\n",
    "import os\n",
    "from datetime import datetime"
   ]
  },
  {
   "cell_type": "code",
   "execution_count": 22,
   "id": "df3dba50",
   "metadata": {},
   "outputs": [],
   "source": [
    "header=[\"Filename\",\"No.of_Parallel_Processes\",\"No.of_Threads\",\"Data(MB)\",\"Time_Taken(sec)\",\"Bandwidth(MB/sec)\",\"Time_Elapsed(sec)\"]\n",
    "with open('stats.csv', 'w') as p:\n",
    "            writer = csv.writer(p)\n",
    "            writer.writerow(header) "
   ]
  },
  {
   "cell_type": "code",
   "execution_count": 23,
   "id": "21e91e52",
   "metadata": {},
   "outputs": [
    {
     "name": "stdout",
     "output_type": "stream",
     "text": [
      "['10000000_1_4_o2c.txt', 1, 4, 10.0, 0.0018, 5519.2269, 31.33]\n",
      "['10000000_1_64_o2c.txt', 1, 64, 10.0, 0.0152, 659.5436, 0.8]\n",
      "Error parsing file  10000000_1_32_o2c.txt\n",
      "['10000000_1_32_o2c.txt', 1, 32]\n",
      "['30000000_1_128_o2c.txt', 1, 128, 30.0, 0.0719, 417.2237, 28.877]\n",
      "['30000000_1_1_o2c.txt', 1, 1, 30.0, 0.0024, 12307.8985, 32.12]\n",
      "['20000000_1_1_o2c.txt', 1, 1, 20.0, 0.0019, 10666.6667, 0.76]\n",
      "['20000000_1_2_o2c.txt', 1, 2, 20.0, 0.0028, 7046.5726, 6.56]\n",
      "['10000000_1_16_o2c.txt', 1, 16, 10.0, 0.0027, 3685.5037, 0.66]\n",
      "['30000000_1_32_o2c.txt', 1, 32, 30.0, 0.0233, 1286.2667, 34.49]\n",
      "['20000000_1_32_o2c.txt', 1, 32, 20.0, 0.0182, 1096.4779, 32.06]\n",
      "['40000000_1_4_o2c.txt', 1, 4, 40.0, 0.0048, 8253.1465, 6.0]\n",
      "Error parsing file  20000000_1_64_o2c.txt\n",
      "['20000000_1_64_o2c.txt', 1, 64]\n",
      "Error parsing file  30000000_1_64_o2c.txt\n",
      "['30000000_1_64_o2c.txt', 1, 64]\n",
      "['20000000_1_128_o2c.txt', 1, 128, 20.0, 0.0559, 358.062, 25.887]\n",
      "['10000000_1_128_o2c.txt', 1, 128, 10.0, 0.0335, 298.926, 24.515]\n",
      "['10000000_1_8_o2c.txt', 1, 8, 10.0, 0.0027, 3750.827, 32.84]\n",
      "['10000000_1_2_o2c.txt', 1, 2, 10.0, 0.0017, 5752.7463, 31.34]\n",
      "['40000000_1_1_o2c.txt', 1, 1, 40.0, 0.0034, 11694.3373, 31.65]\n",
      "['40000000_1_2_o2c.txt', 1, 2, 40.0, 0.0055, 7271.1649, 5.7]\n",
      "['30000000_1_2_o2c.txt', 1, 2, 30.0, 0.0036, 8410.2307, 30.58]\n",
      "['40000000_1_32_o2c.txt', 1, 32, 40.0, 0.0285, 1404.7533, 11.34]\n",
      "['40000000_1_16_o2c.txt', 1, 16, 40.0, 0.0079, 5069.6895, 33.03]\n",
      "['40000000_1_8_o2c.txt', 1, 8, 40.0, 0.0087, 4611.9383, 7.37]\n",
      "['10000000_1_1_o2c.txt', 1, 1, 10.0, 0.0008, 12891.3444, 0.63]\n",
      "['20000000_1_16_o2c.txt', 1, 16, 20.0, 0.0049, 4060.1837, 32.55]\n",
      "['20000000_1_8_o2c.txt', 1, 8, 20.0, 0.0057, 3515.1904, 32.11]\n",
      "['30000000_1_4_o2c.txt', 1, 4, 30.0, 0.0039, 7714.6495, 32.51]\n",
      "['40000000_1_128_o2c.txt', 1, 128, 40.0, 0.1533, 261.008, 27.126]\n",
      "['30000000_1_8_o2c.txt', 1, 8, 30.0, 0.008, 3756.9021, 31.15]\n",
      "['30000000_1_16_o2c.txt', 1, 16, 30.0, 0.0074, 4045.8955, 32.89]\n",
      "['40000000_1_64_o2c.txt', 1, 64, 40.0, 0.0513, 780.0188, 31.84]\n",
      "['20000000_1_4_o2c.txt', 1, 4, 20.0, 0.0029, 6832.4782, 31.95]\n",
      "29\n"
     ]
    }
   ],
   "source": [
    "count = 0\n",
    "for file in [x for x in os.listdir() if '.txt' in x]:\n",
    "    count+=1\n",
    "    f = open(file, 'r')\n",
    "    logs = f.readlines()\n",
    "    #print(logs)    \n",
    "    info = []\n",
    "    info.append(file)\n",
    "    try:\n",
    "        info.append(int(logs[1].strip(\"\\n\").strip(\"\\tP with arg\")))\n",
    "        num_threads = file.split(\"_\")[2]\n",
    "        info.append(int(num_threads))\n",
    "        lmbench = logs[3]\n",
    "        time = logs[4]\n",
    "        info.append(float(lmbench[:lmbench.find(\"MB\")]))\n",
    "        info.append(float(lmbench[lmbench.find(\"in\")+3:lmbench.find(\"secs\")]))\n",
    "        info.append(float(lmbench[lmbench.find(\",\")+1:lmbench.find(\"MB/sec\")]))\n",
    "        logstr=' '.join(map(str, logs))\n",
    "        #print(logstr)\n",
    "        if \"elapsed\" in logstr:\n",
    "            et = time[time.find(\"system\")+7:time.find(\"elapsed\")]\n",
    "            info.append(float(et[0])*60 + float(et[2:]))\n",
    "        elif \"sys\" in logstr:\n",
    "            et = logstr[logstr.find(\"sys\")+3:].strip(\"\\t\")\n",
    "            info.append(float(et[0])*60 + float(et[2:-2]))\n",
    "        with open('stats.csv', 'a') as p:\n",
    "                writer = csv.writer(p)\n",
    "                writer.writerow(info) \n",
    "    except:\n",
    "        print(\"Error parsing file \", file)\n",
    "        count= count-1\n",
    "    print(info)\n",
    "print(count)"
   ]
  },
  {
   "cell_type": "code",
   "execution_count": null,
   "id": "15cca094",
   "metadata": {},
   "outputs": [],
   "source": []
  }
 ],
 "metadata": {
  "kernelspec": {
   "display_name": "Python 3 (ipykernel)",
   "language": "python",
   "name": "python3"
  },
  "language_info": {
   "codemirror_mode": {
    "name": "ipython",
    "version": 3
   },
   "file_extension": ".py",
   "mimetype": "text/x-python",
   "name": "python",
   "nbconvert_exporter": "python",
   "pygments_lexer": "ipython3",
   "version": "3.8.10"
  },
  "vscode": {
   "interpreter": {
    "hash": "916dbcbb3f70747c44a77c7bcd40155683ae19c65e1c03b4aa3499c5328201f1"
   }
  }
 },
 "nbformat": 4,
 "nbformat_minor": 5
}
